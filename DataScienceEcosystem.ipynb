{
 "cells": [
  {
   "cell_type": "markdown",
   "id": "5b7a3bf6-f15e-4a9d-b8c8-0271e0e19923",
   "metadata": {},
   "source": [
    "# Data Science Tools and Ecosystem "
   ]
  },
  {
   "cell_type": "markdown",
   "id": "e5fd8ae2-1683-46a4-9c5e-42c92e9a5cad",
   "metadata": {},
   "source": [
    "In this notebook, Data Science Tools and Ecosystem are summarized."
   ]
  },
  {
   "cell_type": "markdown",
   "id": "689c8796-c159-4c1d-996b-c37ef39fb4e7",
   "metadata": {},
   "source": [
    "### Some of the popular languages that Data Scientists use are:\n",
    "1. Python\n",
    "2. R\n",
    "3. Java"
   ]
  },
  {
   "cell_type": "markdown",
   "id": "1129301b-9201-4662-b2bb-4ccd15cbb333",
   "metadata": {},
   "source": [
    "### Some of the commonly used libraries used by Data Scientists include:\n",
    "\n",
    "1. TensorFlow\n",
    "2. NumPy \n",
    "3. SciPy\n",
    "4 Pandas\n"
   ]
  },
  {
   "cell_type": "markdown",
   "id": "1f438f6a-9a83-490f-a527-26b1d543504e",
   "metadata": {},
   "source": [
    "|Data Science Tools|\n",
    "|-----------| \n",
    "|RStudio| \n",
    "|Apache Spark|\n",
    "|TensorFlow|"
   ]
  },
  {
   "cell_type": "markdown",
   "id": "a5561581-e45e-4ca0-be43-123514893712",
   "metadata": {},
   "source": [
    "### Below are a few examples of evaluating arithmetic expressions in Python\n"
   ]
  },
  {
   "cell_type": "code",
   "execution_count": 1,
   "id": "4e3fbbd9-43e2-4e0a-ba03-a5c75aea45fb",
   "metadata": {
    "tags": []
   },
   "outputs": [
    {
     "data": {
      "text/plain": [
       "17"
      ]
     },
     "execution_count": 1,
     "metadata": {},
     "output_type": "execute_result"
    }
   ],
   "source": [
    "# This a simple arithmetic expression to mutiply then add integers\n",
    "(3*4)+5"
   ]
  },
  {
   "cell_type": "code",
   "execution_count": 2,
   "id": "41de8384-5343-4102-a295-31eddeb65e4e",
   "metadata": {
    "tags": []
   },
   "outputs": [
    {
     "data": {
      "text/plain": [
       "3.3333333333333335"
      ]
     },
     "execution_count": 2,
     "metadata": {},
     "output_type": "execute_result"
    }
   ],
   "source": [
    "# This will convert 200 minutes to hours by diving by 60\n",
    "200 / 60"
   ]
  },
  {
   "cell_type": "markdown",
   "id": "26e0d8cf-6223-4c13-bfe2-55d1fda7eaca",
   "metadata": {},
   "source": [
    "**Objectives:**\n",
    "- List some of the popular languages that Data Scientists use\n",
    "- List some of the commonly used libraries used by Data Scientists\n",
    "- Table of Data Science Tools\n",
    "- Example of simple arithmetic expression to mutiply then add integers"
   ]
  },
  {
   "cell_type": "markdown",
   "id": "055c3e9c-879d-435b-b6cb-99d06134431d",
   "metadata": {},
   "source": [
    "## Author\n",
    "Christiaan Opperman"
   ]
  },
  {
   "cell_type": "code",
   "execution_count": null,
   "id": "65151abc-b736-4139-afbf-eb573a9e83eb",
   "metadata": {},
   "outputs": [],
   "source": []
  }
 ],
 "metadata": {
  "kernelspec": {
   "display_name": "Python",
   "language": "python",
   "name": "conda-env-python-py"
  },
  "language_info": {
   "codemirror_mode": {
    "name": "ipython",
    "version": 3
   },
   "file_extension": ".py",
   "mimetype": "text/x-python",
   "name": "python",
   "nbconvert_exporter": "python",
   "pygments_lexer": "ipython3",
   "version": "3.7.12"
  }
 },
 "nbformat": 4,
 "nbformat_minor": 5
}
